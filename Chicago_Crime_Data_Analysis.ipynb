{
 "cells": [
  {
   "cell_type": "code",
   "execution_count": 28,
   "id": "d9caf4ba",
   "metadata": {},
   "outputs": [],
   "source": [
    "# importing the neccessary libraries\n",
    "import pandas as pd\n",
    "import numpy as np\n",
    "import matplotlib.pyplot as plt \n",
    "import statistics\n",
    "import calendar\n",
    "import seaborn"
   ]
  },
  {
   "cell_type": "code",
   "execution_count": 29,
   "id": "1be91b22",
   "metadata": {},
   "outputs": [],
   "source": [
    "# reading the required data into a dataframe\n",
    "url=\"https://raw.githubusercontent.com/Uzo-Edoka/Analysis-of-Chicago-Crime-Data/main/chicago_crime_data.csv\"\n",
    "chicago_crime=pd.read_csv(url)"
   ]
  },
  {
   "cell_type": "code",
   "execution_count": 30,
   "id": "4abb264c",
   "metadata": {
    "scrolled": true
   },
   "outputs": [
    {
     "data": {
      "text/html": [
       "<div>\n",
       "<style scoped>\n",
       "    .dataframe tbody tr th:only-of-type {\n",
       "        vertical-align: middle;\n",
       "    }\n",
       "\n",
       "    .dataframe tbody tr th {\n",
       "        vertical-align: top;\n",
       "    }\n",
       "\n",
       "    .dataframe thead th {\n",
       "        text-align: right;\n",
       "    }\n",
       "</style>\n",
       "<table border=\"1\" class=\"dataframe\">\n",
       "  <thead>\n",
       "    <tr style=\"text-align: right;\">\n",
       "      <th></th>\n",
       "      <th>Unnamed: 0</th>\n",
       "      <th>ID</th>\n",
       "      <th>Case Number</th>\n",
       "      <th>Date</th>\n",
       "      <th>Block</th>\n",
       "      <th>IUCR</th>\n",
       "      <th>Primary Type</th>\n",
       "      <th>Description</th>\n",
       "      <th>Location Description</th>\n",
       "      <th>Arrest</th>\n",
       "      <th>...</th>\n",
       "      <th>Ward</th>\n",
       "      <th>Community Area</th>\n",
       "      <th>FBI Code</th>\n",
       "      <th>X Coordinate</th>\n",
       "      <th>Y Coordinate</th>\n",
       "      <th>Year</th>\n",
       "      <th>Updated On</th>\n",
       "      <th>Latitude</th>\n",
       "      <th>Longitude</th>\n",
       "      <th>Location</th>\n",
       "    </tr>\n",
       "  </thead>\n",
       "  <tbody>\n",
       "    <tr>\n",
       "      <th>0</th>\n",
       "      <td>0</td>\n",
       "      <td>6407111</td>\n",
       "      <td>HP485721</td>\n",
       "      <td>07/26/2008 02:30:00 PM</td>\n",
       "      <td>085XX S MUSKEGON AVE</td>\n",
       "      <td>1320</td>\n",
       "      <td>CRIMINAL DAMAGE</td>\n",
       "      <td>TO VEHICLE</td>\n",
       "      <td>STREET</td>\n",
       "      <td>False</td>\n",
       "      <td>...</td>\n",
       "      <td>10.0</td>\n",
       "      <td>46.0</td>\n",
       "      <td>14</td>\n",
       "      <td>1196638.0</td>\n",
       "      <td>1848800.0</td>\n",
       "      <td>2008</td>\n",
       "      <td>02/28/2018 03:56:25 PM</td>\n",
       "      <td>41.739980</td>\n",
       "      <td>-87.555120</td>\n",
       "      <td>(41.739979622, -87.555120042)</td>\n",
       "    </tr>\n",
       "    <tr>\n",
       "      <th>1</th>\n",
       "      <td>1</td>\n",
       "      <td>11398199</td>\n",
       "      <td>JB372830</td>\n",
       "      <td>07/31/2018 10:57:00 AM</td>\n",
       "      <td>092XX S ELLIS AVE</td>\n",
       "      <td>143C</td>\n",
       "      <td>WEAPONS VIOLATION</td>\n",
       "      <td>UNLAWFUL POSS AMMUNITION</td>\n",
       "      <td>POOL ROOM</td>\n",
       "      <td>True</td>\n",
       "      <td>...</td>\n",
       "      <td>8.0</td>\n",
       "      <td>47.0</td>\n",
       "      <td>15</td>\n",
       "      <td>1184499.0</td>\n",
       "      <td>1843935.0</td>\n",
       "      <td>2018</td>\n",
       "      <td>08/07/2018 04:02:59 PM</td>\n",
       "      <td>41.726922</td>\n",
       "      <td>-87.599747</td>\n",
       "      <td>(41.726922145, -87.599746995)</td>\n",
       "    </tr>\n",
       "    <tr>\n",
       "      <th>2</th>\n",
       "      <td>2</td>\n",
       "      <td>5488785</td>\n",
       "      <td>HN308568</td>\n",
       "      <td>04/27/2007 10:30:00 AM</td>\n",
       "      <td>062XX N TRIPP AVE</td>\n",
       "      <td>0610</td>\n",
       "      <td>BURGLARY</td>\n",
       "      <td>FORCIBLE ENTRY</td>\n",
       "      <td>RESIDENCE</td>\n",
       "      <td>True</td>\n",
       "      <td>...</td>\n",
       "      <td>39.0</td>\n",
       "      <td>12.0</td>\n",
       "      <td>05</td>\n",
       "      <td>1146911.0</td>\n",
       "      <td>1941022.0</td>\n",
       "      <td>2007</td>\n",
       "      <td>02/28/2018 03:56:25 PM</td>\n",
       "      <td>41.994138</td>\n",
       "      <td>-87.734959</td>\n",
       "      <td>(41.994137622, -87.734959049)</td>\n",
       "    </tr>\n",
       "    <tr>\n",
       "      <th>3</th>\n",
       "      <td>3</td>\n",
       "      <td>11389116</td>\n",
       "      <td>JB361368</td>\n",
       "      <td>07/23/2018 08:55:00 AM</td>\n",
       "      <td>0000X N KEELER AVE</td>\n",
       "      <td>0560</td>\n",
       "      <td>ASSAULT</td>\n",
       "      <td>SIMPLE</td>\n",
       "      <td>NURSING HOME/RETIREMENT HOME</td>\n",
       "      <td>False</td>\n",
       "      <td>...</td>\n",
       "      <td>28.0</td>\n",
       "      <td>26.0</td>\n",
       "      <td>08A</td>\n",
       "      <td>1148388.0</td>\n",
       "      <td>1899882.0</td>\n",
       "      <td>2018</td>\n",
       "      <td>07/30/2018 03:52:24 PM</td>\n",
       "      <td>41.881217</td>\n",
       "      <td>-87.730590</td>\n",
       "      <td>(41.881217483, -87.730589961)</td>\n",
       "    </tr>\n",
       "    <tr>\n",
       "      <th>4</th>\n",
       "      <td>4</td>\n",
       "      <td>12420431</td>\n",
       "      <td>JE297624</td>\n",
       "      <td>07/11/2021 06:40:00 AM</td>\n",
       "      <td>016XX W HARRISON ST</td>\n",
       "      <td>051A</td>\n",
       "      <td>ASSAULT</td>\n",
       "      <td>AGGRAVATED - HANDGUN</td>\n",
       "      <td>PARKING LOT / GARAGE (NON RESIDENTIAL)</td>\n",
       "      <td>False</td>\n",
       "      <td>...</td>\n",
       "      <td>27.0</td>\n",
       "      <td>28.0</td>\n",
       "      <td>04A</td>\n",
       "      <td>1165430.0</td>\n",
       "      <td>1897441.0</td>\n",
       "      <td>2021</td>\n",
       "      <td>07/18/2021 04:56:02 PM</td>\n",
       "      <td>41.874174</td>\n",
       "      <td>-87.668082</td>\n",
       "      <td>(41.874173691, -87.668082118)</td>\n",
       "    </tr>\n",
       "  </tbody>\n",
       "</table>\n",
       "<p>5 rows × 23 columns</p>\n",
       "</div>"
      ],
      "text/plain": [
       "   Unnamed: 0        ID Case Number                    Date  \\\n",
       "0           0   6407111    HP485721  07/26/2008 02:30:00 PM   \n",
       "1           1  11398199    JB372830  07/31/2018 10:57:00 AM   \n",
       "2           2   5488785    HN308568  04/27/2007 10:30:00 AM   \n",
       "3           3  11389116    JB361368  07/23/2018 08:55:00 AM   \n",
       "4           4  12420431    JE297624  07/11/2021 06:40:00 AM   \n",
       "\n",
       "                  Block  IUCR       Primary Type               Description  \\\n",
       "0  085XX S MUSKEGON AVE  1320    CRIMINAL DAMAGE                TO VEHICLE   \n",
       "1     092XX S ELLIS AVE  143C  WEAPONS VIOLATION  UNLAWFUL POSS AMMUNITION   \n",
       "2     062XX N TRIPP AVE  0610           BURGLARY            FORCIBLE ENTRY   \n",
       "3    0000X N KEELER AVE  0560            ASSAULT                    SIMPLE   \n",
       "4   016XX W HARRISON ST  051A            ASSAULT      AGGRAVATED - HANDGUN   \n",
       "\n",
       "                     Location Description  Arrest  ...  Ward  Community Area  \\\n",
       "0                                  STREET   False  ...  10.0            46.0   \n",
       "1                               POOL ROOM    True  ...   8.0            47.0   \n",
       "2                               RESIDENCE    True  ...  39.0            12.0   \n",
       "3            NURSING HOME/RETIREMENT HOME   False  ...  28.0            26.0   \n",
       "4  PARKING LOT / GARAGE (NON RESIDENTIAL)   False  ...  27.0            28.0   \n",
       "\n",
       "   FBI Code  X Coordinate  Y Coordinate  Year              Updated On  \\\n",
       "0        14     1196638.0     1848800.0  2008  02/28/2018 03:56:25 PM   \n",
       "1        15     1184499.0     1843935.0  2018  08/07/2018 04:02:59 PM   \n",
       "2        05     1146911.0     1941022.0  2007  02/28/2018 03:56:25 PM   \n",
       "3       08A     1148388.0     1899882.0  2018  07/30/2018 03:52:24 PM   \n",
       "4       04A     1165430.0     1897441.0  2021  07/18/2021 04:56:02 PM   \n",
       "\n",
       "    Latitude  Longitude                       Location  \n",
       "0  41.739980 -87.555120  (41.739979622, -87.555120042)  \n",
       "1  41.726922 -87.599747  (41.726922145, -87.599746995)  \n",
       "2  41.994138 -87.734959  (41.994137622, -87.734959049)  \n",
       "3  41.881217 -87.730590  (41.881217483, -87.730589961)  \n",
       "4  41.874174 -87.668082  (41.874173691, -87.668082118)  \n",
       "\n",
       "[5 rows x 23 columns]"
      ]
     },
     "execution_count": 30,
     "metadata": {},
     "output_type": "execute_result"
    }
   ],
   "source": [
    "chicago_crime.head(5)  #IUCR is Illinois Uniform Crime Reporting (IUCR) Codes"
   ]
  },
  {
   "cell_type": "code",
   "execution_count": 31,
   "id": "c776ca96",
   "metadata": {
    "scrolled": true
   },
   "outputs": [
    {
     "data": {
      "text/plain": [
       "Index(['Unnamed: 0', 'ID', 'Case Number', 'Date', 'Block', 'IUCR',\n",
       "       'Primary Type', 'Description', 'Location Description', 'Arrest',\n",
       "       'Domestic', 'Beat', 'District', 'Ward', 'Community Area', 'FBI Code',\n",
       "       'X Coordinate', 'Y Coordinate', 'Year', 'Updated On', 'Latitude',\n",
       "       'Longitude', 'Location'],\n",
       "      dtype='object')"
      ]
     },
     "execution_count": 31,
     "metadata": {},
     "output_type": "execute_result"
    }
   ],
   "source": [
    "# list of column names in the dataframe\n",
    "chicago_crime.columns"
   ]
  },
  {
   "cell_type": "markdown",
   "id": "67229cfe",
   "metadata": {},
   "source": [
    "# 1. Drop redundant columns "
   ]
  },
  {
   "cell_type": "code",
   "execution_count": 32,
   "id": "383805ce",
   "metadata": {},
   "outputs": [],
   "source": [
    "# dropping redundant columns: Unnamed: 0, ID, Latitude, Longitude\n",
    "\n",
    "chicago_crime.drop(['Unnamed: 0', 'ID', 'Latitude', 'Longitude' ], axis = 1, inplace = True) "
   ]
  },
  {
   "cell_type": "code",
   "execution_count": 33,
   "id": "7597488c",
   "metadata": {},
   "outputs": [
    {
     "data": {
      "text/plain": [
       "(1000, 19)"
      ]
     },
     "execution_count": 33,
     "metadata": {},
     "output_type": "execute_result"
    }
   ],
   "source": [
    "# checking the shape of the dataframe\n",
    "chicago_crime.shape"
   ]
  },
  {
   "cell_type": "code",
   "execution_count": 34,
   "id": "dbab6728",
   "metadata": {
    "scrolled": true
   },
   "outputs": [
    {
     "data": {
      "text/html": [
       "<div>\n",
       "<style scoped>\n",
       "    .dataframe tbody tr th:only-of-type {\n",
       "        vertical-align: middle;\n",
       "    }\n",
       "\n",
       "    .dataframe tbody tr th {\n",
       "        vertical-align: top;\n",
       "    }\n",
       "\n",
       "    .dataframe thead th {\n",
       "        text-align: right;\n",
       "    }\n",
       "</style>\n",
       "<table border=\"1\" class=\"dataframe\">\n",
       "  <thead>\n",
       "    <tr style=\"text-align: right;\">\n",
       "      <th></th>\n",
       "      <th>Case Number</th>\n",
       "      <th>Date</th>\n",
       "      <th>Block</th>\n",
       "      <th>IUCR</th>\n",
       "      <th>Primary Type</th>\n",
       "      <th>Description</th>\n",
       "      <th>Location Description</th>\n",
       "      <th>Arrest</th>\n",
       "      <th>Domestic</th>\n",
       "      <th>Beat</th>\n",
       "      <th>District</th>\n",
       "      <th>Ward</th>\n",
       "      <th>Community Area</th>\n",
       "      <th>FBI Code</th>\n",
       "      <th>X Coordinate</th>\n",
       "      <th>Y Coordinate</th>\n",
       "      <th>Year</th>\n",
       "      <th>Updated On</th>\n",
       "      <th>Location</th>\n",
       "    </tr>\n",
       "  </thead>\n",
       "  <tbody>\n",
       "    <tr>\n",
       "      <th>0</th>\n",
       "      <td>HP485721</td>\n",
       "      <td>07/26/2008 02:30:00 PM</td>\n",
       "      <td>085XX S MUSKEGON AVE</td>\n",
       "      <td>1320</td>\n",
       "      <td>CRIMINAL DAMAGE</td>\n",
       "      <td>TO VEHICLE</td>\n",
       "      <td>STREET</td>\n",
       "      <td>False</td>\n",
       "      <td>False</td>\n",
       "      <td>423</td>\n",
       "      <td>4.0</td>\n",
       "      <td>10.0</td>\n",
       "      <td>46.0</td>\n",
       "      <td>14</td>\n",
       "      <td>1196638.0</td>\n",
       "      <td>1848800.0</td>\n",
       "      <td>2008</td>\n",
       "      <td>02/28/2018 03:56:25 PM</td>\n",
       "      <td>(41.739979622, -87.555120042)</td>\n",
       "    </tr>\n",
       "    <tr>\n",
       "      <th>1</th>\n",
       "      <td>JB372830</td>\n",
       "      <td>07/31/2018 10:57:00 AM</td>\n",
       "      <td>092XX S ELLIS AVE</td>\n",
       "      <td>143C</td>\n",
       "      <td>WEAPONS VIOLATION</td>\n",
       "      <td>UNLAWFUL POSS AMMUNITION</td>\n",
       "      <td>POOL ROOM</td>\n",
       "      <td>True</td>\n",
       "      <td>False</td>\n",
       "      <td>413</td>\n",
       "      <td>4.0</td>\n",
       "      <td>8.0</td>\n",
       "      <td>47.0</td>\n",
       "      <td>15</td>\n",
       "      <td>1184499.0</td>\n",
       "      <td>1843935.0</td>\n",
       "      <td>2018</td>\n",
       "      <td>08/07/2018 04:02:59 PM</td>\n",
       "      <td>(41.726922145, -87.599746995)</td>\n",
       "    </tr>\n",
       "    <tr>\n",
       "      <th>2</th>\n",
       "      <td>HN308568</td>\n",
       "      <td>04/27/2007 10:30:00 AM</td>\n",
       "      <td>062XX N TRIPP AVE</td>\n",
       "      <td>0610</td>\n",
       "      <td>BURGLARY</td>\n",
       "      <td>FORCIBLE ENTRY</td>\n",
       "      <td>RESIDENCE</td>\n",
       "      <td>True</td>\n",
       "      <td>False</td>\n",
       "      <td>1711</td>\n",
       "      <td>17.0</td>\n",
       "      <td>39.0</td>\n",
       "      <td>12.0</td>\n",
       "      <td>05</td>\n",
       "      <td>1146911.0</td>\n",
       "      <td>1941022.0</td>\n",
       "      <td>2007</td>\n",
       "      <td>02/28/2018 03:56:25 PM</td>\n",
       "      <td>(41.994137622, -87.734959049)</td>\n",
       "    </tr>\n",
       "    <tr>\n",
       "      <th>3</th>\n",
       "      <td>JB361368</td>\n",
       "      <td>07/23/2018 08:55:00 AM</td>\n",
       "      <td>0000X N KEELER AVE</td>\n",
       "      <td>0560</td>\n",
       "      <td>ASSAULT</td>\n",
       "      <td>SIMPLE</td>\n",
       "      <td>NURSING HOME/RETIREMENT HOME</td>\n",
       "      <td>False</td>\n",
       "      <td>False</td>\n",
       "      <td>1115</td>\n",
       "      <td>11.0</td>\n",
       "      <td>28.0</td>\n",
       "      <td>26.0</td>\n",
       "      <td>08A</td>\n",
       "      <td>1148388.0</td>\n",
       "      <td>1899882.0</td>\n",
       "      <td>2018</td>\n",
       "      <td>07/30/2018 03:52:24 PM</td>\n",
       "      <td>(41.881217483, -87.730589961)</td>\n",
       "    </tr>\n",
       "    <tr>\n",
       "      <th>4</th>\n",
       "      <td>JE297624</td>\n",
       "      <td>07/11/2021 06:40:00 AM</td>\n",
       "      <td>016XX W HARRISON ST</td>\n",
       "      <td>051A</td>\n",
       "      <td>ASSAULT</td>\n",
       "      <td>AGGRAVATED - HANDGUN</td>\n",
       "      <td>PARKING LOT / GARAGE (NON RESIDENTIAL)</td>\n",
       "      <td>False</td>\n",
       "      <td>False</td>\n",
       "      <td>1231</td>\n",
       "      <td>12.0</td>\n",
       "      <td>27.0</td>\n",
       "      <td>28.0</td>\n",
       "      <td>04A</td>\n",
       "      <td>1165430.0</td>\n",
       "      <td>1897441.0</td>\n",
       "      <td>2021</td>\n",
       "      <td>07/18/2021 04:56:02 PM</td>\n",
       "      <td>(41.874173691, -87.668082118)</td>\n",
       "    </tr>\n",
       "  </tbody>\n",
       "</table>\n",
       "</div>"
      ],
      "text/plain": [
       "  Case Number                    Date                 Block  IUCR  \\\n",
       "0    HP485721  07/26/2008 02:30:00 PM  085XX S MUSKEGON AVE  1320   \n",
       "1    JB372830  07/31/2018 10:57:00 AM     092XX S ELLIS AVE  143C   \n",
       "2    HN308568  04/27/2007 10:30:00 AM     062XX N TRIPP AVE  0610   \n",
       "3    JB361368  07/23/2018 08:55:00 AM    0000X N KEELER AVE  0560   \n",
       "4    JE297624  07/11/2021 06:40:00 AM   016XX W HARRISON ST  051A   \n",
       "\n",
       "        Primary Type               Description  \\\n",
       "0    CRIMINAL DAMAGE                TO VEHICLE   \n",
       "1  WEAPONS VIOLATION  UNLAWFUL POSS AMMUNITION   \n",
       "2           BURGLARY            FORCIBLE ENTRY   \n",
       "3            ASSAULT                    SIMPLE   \n",
       "4            ASSAULT      AGGRAVATED - HANDGUN   \n",
       "\n",
       "                     Location Description  Arrest  Domestic  Beat  District  \\\n",
       "0                                  STREET   False     False   423       4.0   \n",
       "1                               POOL ROOM    True     False   413       4.0   \n",
       "2                               RESIDENCE    True     False  1711      17.0   \n",
       "3            NURSING HOME/RETIREMENT HOME   False     False  1115      11.0   \n",
       "4  PARKING LOT / GARAGE (NON RESIDENTIAL)   False     False  1231      12.0   \n",
       "\n",
       "   Ward  Community Area FBI Code  X Coordinate  Y Coordinate  Year  \\\n",
       "0  10.0            46.0       14     1196638.0     1848800.0  2008   \n",
       "1   8.0            47.0       15     1184499.0     1843935.0  2018   \n",
       "2  39.0            12.0       05     1146911.0     1941022.0  2007   \n",
       "3  28.0            26.0      08A     1148388.0     1899882.0  2018   \n",
       "4  27.0            28.0      04A     1165430.0     1897441.0  2021   \n",
       "\n",
       "               Updated On                       Location  \n",
       "0  02/28/2018 03:56:25 PM  (41.739979622, -87.555120042)  \n",
       "1  08/07/2018 04:02:59 PM  (41.726922145, -87.599746995)  \n",
       "2  02/28/2018 03:56:25 PM  (41.994137622, -87.734959049)  \n",
       "3  07/30/2018 03:52:24 PM  (41.881217483, -87.730589961)  \n",
       "4  07/18/2021 04:56:02 PM  (41.874173691, -87.668082118)  "
      ]
     },
     "execution_count": 34,
     "metadata": {},
     "output_type": "execute_result"
    }
   ],
   "source": [
    "# display first 5 rows of the dataframe\n",
    "chicago_crime.head(5) "
   ]
  },
  {
   "cell_type": "markdown",
   "id": "dd62d4c8",
   "metadata": {},
   "source": [
    "# 2. Creating new columns for Months, Day, Season."
   ]
  },
  {
   "cell_type": "code",
   "execution_count": 35,
   "id": "b4dd90ef",
   "metadata": {},
   "outputs": [],
   "source": [
    "# creating the day column from date column\n",
    "chicago_crime['Day'] = pd.to_datetime(chicago_crime['Date']).dt.day"
   ]
  },
  {
   "cell_type": "code",
   "execution_count": 36,
   "id": "c9ec72ee",
   "metadata": {},
   "outputs": [],
   "source": [
    "# creating the month column from date column\n",
    "chicago_crime['Month'] = pd.to_datetime(chicago_crime['Date']).dt.month\n",
    "\n",
    "# Converting month integer to month name (coverting 5 to May, etc)\n",
    "chicago_crime['Month'] = chicago_crime['Month'].apply(lambda x: calendar.month_abbr[x])"
   ]
  },
  {
   "cell_type": "code",
   "execution_count": 37,
   "id": "7991f673",
   "metadata": {},
   "outputs": [],
   "source": [
    "# creating the season column from month column \n",
    "season_dict = {'Jan': 'Winter',\n",
    "               'Feb': 'Winter',\n",
    "               'Mar': 'Spring', \n",
    "               'Apr': 'Spring',\n",
    "               'May': 'Spring',\n",
    "               'Jun': 'Summer',\n",
    "               'Jul': 'Summer',\n",
    "               'Aug': 'Summer',\n",
    "               'Sep': 'Fall',\n",
    "               'Oct': 'Fall',\n",
    "               'Nov': 'Fall',\n",
    "               'Dec': 'Winter'}\n",
    "chicago_crime['Season'] = chicago_crime['Month'].apply(lambda x: season_dict[x])"
   ]
  },
  {
   "cell_type": "code",
   "execution_count": 38,
   "id": "7bc71a3b",
   "metadata": {},
   "outputs": [],
   "source": [
    "# moving the Month column close to the date column for easy readability\n",
    "Month_col = chicago_crime.pop('Month')\n",
    "chicago_crime.insert(2, 'Month', Month_col)"
   ]
  },
  {
   "cell_type": "code",
   "execution_count": 39,
   "id": "60d56e73",
   "metadata": {},
   "outputs": [],
   "source": [
    "# moving the Day column close to the date column for easy readability\n",
    "Day_col = chicago_crime.pop('Day')\n",
    "chicago_crime.insert(2, 'Day', Day_col)"
   ]
  },
  {
   "cell_type": "code",
   "execution_count": 40,
   "id": "56f93a9b",
   "metadata": {},
   "outputs": [],
   "source": [
    "# moving the Season column close to the month column for easy readability\n",
    "Season_col = chicago_crime.pop('Season')\n",
    "chicago_crime.insert(4, 'Season', Season_col)"
   ]
  },
  {
   "cell_type": "code",
   "execution_count": 41,
   "id": "a02c1ed0",
   "metadata": {},
   "outputs": [
    {
     "data": {
      "text/html": [
       "<div>\n",
       "<style scoped>\n",
       "    .dataframe tbody tr th:only-of-type {\n",
       "        vertical-align: middle;\n",
       "    }\n",
       "\n",
       "    .dataframe tbody tr th {\n",
       "        vertical-align: top;\n",
       "    }\n",
       "\n",
       "    .dataframe thead th {\n",
       "        text-align: right;\n",
       "    }\n",
       "</style>\n",
       "<table border=\"1\" class=\"dataframe\">\n",
       "  <thead>\n",
       "    <tr style=\"text-align: right;\">\n",
       "      <th></th>\n",
       "      <th>Case Number</th>\n",
       "      <th>Date</th>\n",
       "      <th>Day</th>\n",
       "      <th>Month</th>\n",
       "      <th>Season</th>\n",
       "      <th>Block</th>\n",
       "      <th>IUCR</th>\n",
       "      <th>Primary Type</th>\n",
       "      <th>Description</th>\n",
       "      <th>Location Description</th>\n",
       "      <th>...</th>\n",
       "      <th>Beat</th>\n",
       "      <th>District</th>\n",
       "      <th>Ward</th>\n",
       "      <th>Community Area</th>\n",
       "      <th>FBI Code</th>\n",
       "      <th>X Coordinate</th>\n",
       "      <th>Y Coordinate</th>\n",
       "      <th>Year</th>\n",
       "      <th>Updated On</th>\n",
       "      <th>Location</th>\n",
       "    </tr>\n",
       "  </thead>\n",
       "  <tbody>\n",
       "    <tr>\n",
       "      <th>0</th>\n",
       "      <td>HP485721</td>\n",
       "      <td>07/26/2008 02:30:00 PM</td>\n",
       "      <td>26</td>\n",
       "      <td>Jul</td>\n",
       "      <td>Summer</td>\n",
       "      <td>085XX S MUSKEGON AVE</td>\n",
       "      <td>1320</td>\n",
       "      <td>CRIMINAL DAMAGE</td>\n",
       "      <td>TO VEHICLE</td>\n",
       "      <td>STREET</td>\n",
       "      <td>...</td>\n",
       "      <td>423</td>\n",
       "      <td>4.0</td>\n",
       "      <td>10.0</td>\n",
       "      <td>46.0</td>\n",
       "      <td>14</td>\n",
       "      <td>1196638.0</td>\n",
       "      <td>1848800.0</td>\n",
       "      <td>2008</td>\n",
       "      <td>02/28/2018 03:56:25 PM</td>\n",
       "      <td>(41.739979622, -87.555120042)</td>\n",
       "    </tr>\n",
       "    <tr>\n",
       "      <th>1</th>\n",
       "      <td>JB372830</td>\n",
       "      <td>07/31/2018 10:57:00 AM</td>\n",
       "      <td>31</td>\n",
       "      <td>Jul</td>\n",
       "      <td>Summer</td>\n",
       "      <td>092XX S ELLIS AVE</td>\n",
       "      <td>143C</td>\n",
       "      <td>WEAPONS VIOLATION</td>\n",
       "      <td>UNLAWFUL POSS AMMUNITION</td>\n",
       "      <td>POOL ROOM</td>\n",
       "      <td>...</td>\n",
       "      <td>413</td>\n",
       "      <td>4.0</td>\n",
       "      <td>8.0</td>\n",
       "      <td>47.0</td>\n",
       "      <td>15</td>\n",
       "      <td>1184499.0</td>\n",
       "      <td>1843935.0</td>\n",
       "      <td>2018</td>\n",
       "      <td>08/07/2018 04:02:59 PM</td>\n",
       "      <td>(41.726922145, -87.599746995)</td>\n",
       "    </tr>\n",
       "    <tr>\n",
       "      <th>2</th>\n",
       "      <td>HN308568</td>\n",
       "      <td>04/27/2007 10:30:00 AM</td>\n",
       "      <td>27</td>\n",
       "      <td>Apr</td>\n",
       "      <td>Spring</td>\n",
       "      <td>062XX N TRIPP AVE</td>\n",
       "      <td>0610</td>\n",
       "      <td>BURGLARY</td>\n",
       "      <td>FORCIBLE ENTRY</td>\n",
       "      <td>RESIDENCE</td>\n",
       "      <td>...</td>\n",
       "      <td>1711</td>\n",
       "      <td>17.0</td>\n",
       "      <td>39.0</td>\n",
       "      <td>12.0</td>\n",
       "      <td>05</td>\n",
       "      <td>1146911.0</td>\n",
       "      <td>1941022.0</td>\n",
       "      <td>2007</td>\n",
       "      <td>02/28/2018 03:56:25 PM</td>\n",
       "      <td>(41.994137622, -87.734959049)</td>\n",
       "    </tr>\n",
       "    <tr>\n",
       "      <th>3</th>\n",
       "      <td>JB361368</td>\n",
       "      <td>07/23/2018 08:55:00 AM</td>\n",
       "      <td>23</td>\n",
       "      <td>Jul</td>\n",
       "      <td>Summer</td>\n",
       "      <td>0000X N KEELER AVE</td>\n",
       "      <td>0560</td>\n",
       "      <td>ASSAULT</td>\n",
       "      <td>SIMPLE</td>\n",
       "      <td>NURSING HOME/RETIREMENT HOME</td>\n",
       "      <td>...</td>\n",
       "      <td>1115</td>\n",
       "      <td>11.0</td>\n",
       "      <td>28.0</td>\n",
       "      <td>26.0</td>\n",
       "      <td>08A</td>\n",
       "      <td>1148388.0</td>\n",
       "      <td>1899882.0</td>\n",
       "      <td>2018</td>\n",
       "      <td>07/30/2018 03:52:24 PM</td>\n",
       "      <td>(41.881217483, -87.730589961)</td>\n",
       "    </tr>\n",
       "    <tr>\n",
       "      <th>4</th>\n",
       "      <td>JE297624</td>\n",
       "      <td>07/11/2021 06:40:00 AM</td>\n",
       "      <td>11</td>\n",
       "      <td>Jul</td>\n",
       "      <td>Summer</td>\n",
       "      <td>016XX W HARRISON ST</td>\n",
       "      <td>051A</td>\n",
       "      <td>ASSAULT</td>\n",
       "      <td>AGGRAVATED - HANDGUN</td>\n",
       "      <td>PARKING LOT / GARAGE (NON RESIDENTIAL)</td>\n",
       "      <td>...</td>\n",
       "      <td>1231</td>\n",
       "      <td>12.0</td>\n",
       "      <td>27.0</td>\n",
       "      <td>28.0</td>\n",
       "      <td>04A</td>\n",
       "      <td>1165430.0</td>\n",
       "      <td>1897441.0</td>\n",
       "      <td>2021</td>\n",
       "      <td>07/18/2021 04:56:02 PM</td>\n",
       "      <td>(41.874173691, -87.668082118)</td>\n",
       "    </tr>\n",
       "  </tbody>\n",
       "</table>\n",
       "<p>5 rows × 22 columns</p>\n",
       "</div>"
      ],
      "text/plain": [
       "  Case Number                    Date  Day Month  Season  \\\n",
       "0    HP485721  07/26/2008 02:30:00 PM   26   Jul  Summer   \n",
       "1    JB372830  07/31/2018 10:57:00 AM   31   Jul  Summer   \n",
       "2    HN308568  04/27/2007 10:30:00 AM   27   Apr  Spring   \n",
       "3    JB361368  07/23/2018 08:55:00 AM   23   Jul  Summer   \n",
       "4    JE297624  07/11/2021 06:40:00 AM   11   Jul  Summer   \n",
       "\n",
       "                  Block  IUCR       Primary Type               Description  \\\n",
       "0  085XX S MUSKEGON AVE  1320    CRIMINAL DAMAGE                TO VEHICLE   \n",
       "1     092XX S ELLIS AVE  143C  WEAPONS VIOLATION  UNLAWFUL POSS AMMUNITION   \n",
       "2     062XX N TRIPP AVE  0610           BURGLARY            FORCIBLE ENTRY   \n",
       "3    0000X N KEELER AVE  0560            ASSAULT                    SIMPLE   \n",
       "4   016XX W HARRISON ST  051A            ASSAULT      AGGRAVATED - HANDGUN   \n",
       "\n",
       "                     Location Description  ...  Beat  District  Ward  \\\n",
       "0                                  STREET  ...   423       4.0  10.0   \n",
       "1                               POOL ROOM  ...   413       4.0   8.0   \n",
       "2                               RESIDENCE  ...  1711      17.0  39.0   \n",
       "3            NURSING HOME/RETIREMENT HOME  ...  1115      11.0  28.0   \n",
       "4  PARKING LOT / GARAGE (NON RESIDENTIAL)  ...  1231      12.0  27.0   \n",
       "\n",
       "   Community Area  FBI Code  X Coordinate Y Coordinate  Year  \\\n",
       "0            46.0        14     1196638.0    1848800.0  2008   \n",
       "1            47.0        15     1184499.0    1843935.0  2018   \n",
       "2            12.0        05     1146911.0    1941022.0  2007   \n",
       "3            26.0       08A     1148388.0    1899882.0  2018   \n",
       "4            28.0       04A     1165430.0    1897441.0  2021   \n",
       "\n",
       "               Updated On                       Location  \n",
       "0  02/28/2018 03:56:25 PM  (41.739979622, -87.555120042)  \n",
       "1  08/07/2018 04:02:59 PM  (41.726922145, -87.599746995)  \n",
       "2  02/28/2018 03:56:25 PM  (41.994137622, -87.734959049)  \n",
       "3  07/30/2018 03:52:24 PM  (41.881217483, -87.730589961)  \n",
       "4  07/18/2021 04:56:02 PM  (41.874173691, -87.668082118)  \n",
       "\n",
       "[5 rows x 22 columns]"
      ]
     },
     "execution_count": 41,
     "metadata": {},
     "output_type": "execute_result"
    }
   ],
   "source": [
    "chicago_crime.head(5)"
   ]
  },
  {
   "cell_type": "markdown",
   "id": "612b4e8f",
   "metadata": {},
   "source": [
    "# 3. Showing how the frequency of crime is distributed within Months, Days, Seasons with the most crime record and what crimes are highest and lowest?"
   ]
  },
  {
   "cell_type": "markdown",
   "id": "8c29f19e",
   "metadata": {},
   "source": [
    "### Day with the most crime record and what crimes are highest and lowest?"
   ]
  },
  {
   "cell_type": "code",
   "execution_count": 42,
   "id": "33d22e85",
   "metadata": {
    "scrolled": true
   },
   "outputs": [
    {
     "data": {
      "text/plain": [
       "0    21\n",
       "Name: Day, dtype: int64"
      ]
     },
     "execution_count": 42,
     "metadata": {},
     "output_type": "execute_result"
    }
   ],
   "source": [
    "# Day with the most crime record\n",
    "chicago_crime['Day'].mode()"
   ]
  },
  {
   "cell_type": "code",
   "execution_count": 43,
   "id": "065f2c00",
   "metadata": {},
   "outputs": [],
   "source": [
    "# creating a subset of Day 21 (Day with the most crime record) \n",
    "day21_crime = chicago_crime[chicago_crime.Day == 21]"
   ]
  },
  {
   "cell_type": "code",
   "execution_count": 44,
   "id": "5a97c701",
   "metadata": {},
   "outputs": [
    {
     "data": {
      "text/plain": [
       "Primary Type\n",
       "ASSAULT                             7\n",
       "BATTERY                             6\n",
       "BURGLARY                            4\n",
       "CRIMINAL DAMAGE                     2\n",
       "CRIMINAL TRESPASS                   1\n",
       "DECEPTIVE PRACTICE                  3\n",
       "INTERFERENCE WITH PUBLIC OFFICER    1\n",
       "MOTOR VEHICLE THEFT                 1\n",
       "NARCOTICS                           5\n",
       "OTHER OFFENSE                       4\n",
       "ROBBERY                             2\n",
       "THEFT                               8\n",
       "WEAPONS VIOLATION                   1\n",
       "Name: Day, dtype: int64"
      ]
     },
     "execution_count": 44,
     "metadata": {},
     "output_type": "execute_result"
    }
   ],
   "source": [
    "# Grouping the different types of crimes in Day 21 and their frequency of occurence\n",
    "day21_crime.groupby('Primary Type')['Day'].count() "
   ]
  },
  {
   "cell_type": "code",
   "execution_count": 45,
   "id": "d8a43d34",
   "metadata": {},
   "outputs": [
    {
     "data": {
      "text/plain": [
       "<Axes: title={'center': 'Distribution of crimes on Day 21'}, xlabel='Primary Type', ylabel='Frequency'>"
      ]
     },
     "execution_count": 45,
     "metadata": {},
     "output_type": "execute_result"
    },
    {
     "data": {
      "image/png": "[encoded data removed]",
      "text/plain": [
       "<Figure size 640x480 with 1 Axes>"
      ]
     },
     "metadata": {},
     "output_type": "display_data"
    }
   ],
   "source": [
    "# Bar chart showing distribution of crimes commited in Day 21\n",
    "day21_crime.groupby('Primary Type')['Day'].count().plot(kind='bar', title='Distribution of crimes on Day 21', ylabel='Frequency')"
   ]
  },
  {
   "cell_type": "raw",
   "id": "8ab1b63e",
   "metadata": {},
   "source": [
    "On Day 21, Highest crime is THEFT, while lowest crimes are \n",
    "CRIMINAL TRESPASS, INTERFERENCE WITH PUBLIC OFFICER, MOTOR VEHICLE THEFT, WEAPONS VIOLATION"
   ]
  },
  {
   "cell_type": "markdown",
   "id": "89e8b3ee",
   "metadata": {},
   "source": [
    "### Month with the most crime record and what crimes are highest and lowest?"
   ]
  },
  {
   "cell_type": "code",
   "execution_count": 46,
   "id": "599897ac",
   "metadata": {
    "scrolled": true
   },
   "outputs": [
    {
     "data": {
      "text/plain": [
       "0    Apr\n",
       "Name: Month, dtype: object"
      ]
     },
     "execution_count": 46,
     "metadata": {},
     "output_type": "execute_result"
    }
   ],
   "source": [
    "# Month with the most crime record\n",
    "chicago_crime['Month'].mode()"
   ]
  },
  {
   "cell_type": "code",
   "execution_count": 47,
   "id": "b512ccb2",
   "metadata": {},
   "outputs": [],
   "source": [
    "# creating a subset of April (Month with the most crime record) \n",
    "april_crime = chicago_crime[chicago_crime.Month == 'Apr']"
   ]
  },
  {
   "cell_type": "code",
   "execution_count": 48,
   "id": "4e6431b9",
   "metadata": {
    "scrolled": false
   },
   "outputs": [
    {
     "data": {
      "text/plain": [
       "Primary Type\n",
       "ASSAULT                    3\n",
       "BATTERY                   17\n",
       "BURGLARY                   7\n",
       "CRIM SEXUAL ASSAULT        1\n",
       "CRIMINAL DAMAGE            9\n",
       "CRIMINAL TRESPASS          2\n",
       "DECEPTIVE PRACTICE         2\n",
       "LIQUOR LAW VIOLATION       1\n",
       "MOTOR VEHICLE THEFT        2\n",
       "NARCOTICS                 19\n",
       "OTHER OFFENSE              7\n",
       "PUBLIC PEACE VIOLATION     1\n",
       "ROBBERY                    5\n",
       "THEFT                     23\n",
       "WEAPONS VIOLATION          2\n",
       "Name: Month, dtype: int64"
      ]
     },
     "execution_count": 48,
     "metadata": {},
     "output_type": "execute_result"
    }
   ],
   "source": [
    "# Grouping the different types of crimes in April and their frequency of occurence\n",
    "april_crime.groupby('Primary Type')['Month'].count()"
   ]
  },
  {
   "cell_type": "code",
   "execution_count": 49,
   "id": "453813e8",
   "metadata": {},
   "outputs": [
    {
     "data": {
      "text/plain": [
       "<Axes: title={'center': 'Distribution of crimes in April'}, xlabel='Primary Type', ylabel='Frequency'>"
      ]
     },
     "execution_count": 49,
     "metadata": {},
     "output_type": "execute_result"
    },
    {
     "data": {
      "image/png": "[encoded data removed]",
      "text/plain": [
       "<Figure size 640x480 with 1 Axes>"
      ]
     },
     "metadata": {},
     "output_type": "display_data"
    }
   ],
   "source": [
    "# Bar chart showing distribution of crimes commited in April\n",
    "april_crime.groupby('Primary Type')['Month'].count().plot(kind='bar', title='Distribution of crimes in April', ylabel='Frequency')"
   ]
  },
  {
   "cell_type": "raw",
   "id": "a2cd254e",
   "metadata": {},
   "source": [
    "In April, Highest crime is THEFT, while lowest crimes are \n",
    "CRIM SEXUAL ASSAULT, LIQUOR LAW VIOLATION,PUBLIC PEACE VIOLATION."
   ]
  },
  {
   "cell_type": "markdown",
   "id": "e30f6f80",
   "metadata": {},
   "source": [
    "### Season with the most crime records and what crimes are highest and lowest?"
   ]
  },
  {
   "cell_type": "code",
   "execution_count": 50,
   "id": "b74424db",
   "metadata": {
    "scrolled": true
   },
   "outputs": [
    {
     "data": {
      "text/plain": [
       "0    Spring\n",
       "Name: Season, dtype: object"
      ]
     },
     "execution_count": 50,
     "metadata": {},
     "output_type": "execute_result"
    }
   ],
   "source": [
    "# Season with the most crime record\n",
    "chicago_crime['Season'].mode()"
   ]
  },
  {
   "cell_type": "code",
   "execution_count": 51,
   "id": "f9942b3e",
   "metadata": {},
   "outputs": [],
   "source": [
    "# creating a subset of Spring (Season with the most crime record) \n",
    "spring_crime = chicago_crime[chicago_crime.Season == 'Spring']"
   ]
  },
  {
   "cell_type": "code",
   "execution_count": 52,
   "id": "762005a3",
   "metadata": {},
   "outputs": [
    {
     "data": {
      "text/plain": [
       "Primary Type\n",
       "ASSAULT                       10\n",
       "BATTERY                       55\n",
       "BURGLARY                      15\n",
       "CRIM SEXUAL ASSAULT            1\n",
       "CRIMINAL DAMAGE               25\n",
       "CRIMINAL TRESPASS              5\n",
       "DECEPTIVE PRACTICE            11\n",
       "INTIMIDATION                   1\n",
       "LIQUOR LAW VIOLATION           1\n",
       "MOTOR VEHICLE THEFT            7\n",
       "NARCOTICS                     45\n",
       "OFFENSE INVOLVING CHILDREN     1\n",
       "OTHER OFFENSE                 17\n",
       "PROSTITUTION                   3\n",
       "PUBLIC PEACE VIOLATION         1\n",
       "ROBBERY                       11\n",
       "SEX OFFENSE                    1\n",
       "THEFT                         51\n",
       "WEAPONS VIOLATION              3\n",
       "Name: Season, dtype: int64"
      ]
     },
     "execution_count": 52,
     "metadata": {},
     "output_type": "execute_result"
    }
   ],
   "source": [
    "# Grouping the different types of crimes in spring and their frequency of occurence\n",
    "spring_crime.groupby('Primary Type')['Season'].count()"
   ]
  },
  {
   "cell_type": "code",
   "execution_count": 53,
   "id": "ed56376a",
   "metadata": {},
   "outputs": [
    {
     "data": {
      "text/plain": [
       "<Axes: title={'center': 'Distribution of crimes in Spring Season'}, xlabel='Primary Type', ylabel='Frequency'>"
      ]
     },
     "execution_count": 53,
     "metadata": {},
     "output_type": "execute_result"
    },
    {
     "data": {
      "image/png": "[encoded data removed]",
      "text/plain": [
       "<Figure size 640x480 with 1 Axes>"
      ]
     },
     "metadata": {},
     "output_type": "display_data"
    }
   ],
   "source": [
    "# Bar chart showing distribution of crimes commited in Spring\n",
    "spring_crime.groupby('Primary Type')['Season'].count().plot(kind='bar', title='Distribution of crimes in Spring Season', ylabel='Frequency')"
   ]
  },
  {
   "cell_type": "raw",
   "id": "aca06fd1",
   "metadata": {},
   "source": [
    "In spring, Highest crime is BATTERY, while lowest crimes are CRIM SEXUAL ASSAULT, \n",
    "INTIMIDATION, LIQUOR LAW VIOLATION, OFFENSE INVOLVING CHILDREN, PUBLIC PEACE VIOLATION & SEX OFFENSE."
   ]
  },
  {
   "cell_type": "markdown",
   "id": "252e26b9",
   "metadata": {},
   "source": [
    "# Where crime happen the most according to location description?"
   ]
  },
  {
   "cell_type": "code",
   "execution_count": 54,
   "id": "4844c584",
   "metadata": {},
   "outputs": [
    {
     "name": "stdout",
     "output_type": "stream",
     "text": [
      "Most crime happen in the STREET.\n"
     ]
    }
   ],
   "source": [
    "# Where crime happen the most according to location description?\n",
    "most_crime_location = chicago_crime['Location Description'].mode().to_string(index=False)\n",
    "print(f'Most crime happen in the {most_crime_location}.') "
   ]
  },
  {
   "cell_type": "code",
   "execution_count": null,
   "id": "b08a7503",
   "metadata": {},
   "outputs": [],
   "source": []
  },
  {
   "cell_type": "code",
   "execution_count": null,
   "id": "58099e1f",
   "metadata": {},
   "outputs": [],
   "source": []
  }
 ],
 "metadata": {
  "kernelspec": {
   "display_name": "Python 3 (ipykernel)",
   "language": "python",
   "name": "python3"
  },
  "language_info": {
   "codemirror_mode": {
    "name": "ipython",
    "version": 3
   },
   "file_extension": ".py",
   "mimetype": "text/x-python",
   "name": "python",
   "nbconvert_exporter": "python",
   "pygments_lexer": "ipython3",
   "version": "3.10.9"
  }
 },
 "nbformat": 4,
 "nbformat_minor": 5
}
